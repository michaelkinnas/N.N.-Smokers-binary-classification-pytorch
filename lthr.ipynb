{
 "cells": [
  {
   "cell_type": "markdown",
   "metadata": {},
   "source": [
    "## Imports & helper functions"
   ]
  },
  {
   "cell_type": "code",
   "execution_count": 53,
   "metadata": {},
   "outputs": [
    {
     "data": {
      "text/plain": [
       "'cuda'"
      ]
     },
     "execution_count": 53,
     "metadata": {},
     "output_type": "execute_result"
    }
   ],
   "source": [
    "import torch\n",
    "from torch import nn\n",
    "from torch.utils.data import DataLoader\n",
    "import matplotlib.pyplot as plt\n",
    "import pandas as pd\n",
    "import seaborn as sns\n",
    "from sklearn.model_selection import train_test_split\n",
    "from timeit import default_timer as timer\n",
    "from tqdm.notebook import tqdm\n",
    "from torchinfo import summary\n",
    "from pathlib import Path\n",
    "import torch.nn.utils.prune as prune\n",
    "import torch.nn.functional as F\n",
    "from ptflops import get_model_complexity_info\n",
    "import psutil\n",
    "from model import SmokersBinaryClassification\n",
    "from utils import *\n",
    "\n",
    "device = 'cuda' if torch.cuda.is_available() else 'cpu'\n",
    "device"
   ]
  },
  {
   "cell_type": "code",
   "execution_count": 54,
   "metadata": {},
   "outputs": [],
   "source": [
    "# Calculate accuracy\n",
    "def accuracy_fn(y_pred, y_true):\n",
    "    # print(f'prediction {y_pred} true: {y_true} ')\n",
    "    correct = torch.eq(y_true, y_pred).sum().item()\n",
    "    return (correct / len(y_pred)) * 100"
   ]
  },
  {
   "cell_type": "code",
   "execution_count": 55,
   "metadata": {},
   "outputs": [],
   "source": [
    "def print_train_time(start: float, end: float, device: torch.device = None):\n",
    "    \"\"\"Prints difference between start and end time.\n",
    "    \"\"\"\n",
    "    total_time = end - start\n",
    "    print(f'Train time on {device}: {total_time:.3f} seconds')\n",
    "    # return total_time"
   ]
  },
  {
   "cell_type": "code",
   "execution_count": 56,
   "metadata": {},
   "outputs": [],
   "source": [
    "def training_loop(model, X_train, y_train, X_test, y_test, epochs, loss_fn, optimizer):\n",
    "    X_train, y_train, X_test, y_test = X_train.to(device), y_train.to(device), X_test.to(device), y_test.to(device)\n",
    "\n",
    "    start_time = timer()\n",
    "\n",
    "    for epoch in tqdm(range(epochs), desc='Training...'):\n",
    "        model.train()\n",
    "\n",
    "        # 1. Forward passs\n",
    "        y_hat = model(X_train)\n",
    "        loss = loss_fn(y_hat, y_train)    \n",
    "\n",
    "        optimizer.zero_grad()\n",
    "        loss.backward()\n",
    "        optimizer.step()\n",
    "\n",
    "        # Calculate prediction accuracy\n",
    "        y_train_pred = torch.round(torch.sigmoid(y_hat))        #if not using sigmoid on model output\n",
    "        # y_train_pred = torch.round(y_hat)                     #prediction probabilities -> prediction labels\n",
    "        acc = accuracy_fn(y_pred=y_train_pred, y_true=y_train)\n",
    "\n",
    "        ### Testing\n",
    "        model.eval()\n",
    "        with torch.inference_mode():\n",
    "            y_hat = model(X_test)\n",
    "            test_loss = loss_fn(y_hat, y_test)\n",
    "\n",
    "            y_test_pred = torch.round(torch.sigmoid(y_hat))\n",
    "            # y_test_pred = torch.round(y_hat)\n",
    "            test_acc = accuracy_fn(y_pred=y_test_pred, y_true=y_test)\n",
    "\n",
    "        if epoch % 50 == 0 and epoch != 0             :\n",
    "            print(f'Epoch: {epoch:04d} | Loss: {loss:.4f}, Acc: {acc:.2f}% | Test Loss: {test_loss:.4f}, Test Acc: {test_acc:.2f}%')\n",
    "\n",
    "    end_time = timer()\n",
    "    return end_time - start_time, acc, test_acc\n",
    "  "
   ]
  },
  {
   "cell_type": "markdown",
   "metadata": {},
   "source": [
    "1. Initialize model\n",
    "2. Save parameter values\n",
    "3. Train network\n",
    "4. Prune\n",
    "5. Restore values from step 2 to pruned network\n",
    "6. Repeat steps 3 - 5"
   ]
  },
  {
   "cell_type": "markdown",
   "metadata": {},
   "source": [
    "## Data load and prep"
   ]
  },
  {
   "cell_type": "code",
   "execution_count": 57,
   "metadata": {},
   "outputs": [],
   "source": [
    "dataset = pd.read_csv('dataset/smoking_driking_dataset_Ver01.csv')"
   ]
  },
  {
   "cell_type": "code",
   "execution_count": 58,
   "metadata": {},
   "outputs": [],
   "source": [
    "dataset = dataset[dataset['SMK_stat_type_cd'] != 2]"
   ]
  },
  {
   "cell_type": "code",
   "execution_count": 59,
   "metadata": {},
   "outputs": [],
   "source": [
    "dataset['sex'] = dataset['sex'].replace('Male', 0.0)\n",
    "dataset['sex'] = dataset['sex'].replace('Female', 1.0)"
   ]
  },
  {
   "cell_type": "code",
   "execution_count": 60,
   "metadata": {},
   "outputs": [],
   "source": [
    "dataset['SMK_stat_type_cd'] = dataset['SMK_stat_type_cd'].apply(lambda x: 1.0 if x == 3.0 else 0.0) # Smokers: 1 non smokers: 0"
   ]
  },
  {
   "cell_type": "code",
   "execution_count": 61,
   "metadata": {},
   "outputs": [],
   "source": [
    "# Remove some input features from dataset\n",
    "dataset = dataset.drop(['waistline','sight_left','sight_right','hear_left','hear_right','urine_protein','DRK_YN'], axis=1)"
   ]
  },
  {
   "cell_type": "code",
   "execution_count": 62,
   "metadata": {},
   "outputs": [
    {
     "name": "stdout",
     "output_type": "stream",
     "text": [
      "Number of smokers in the dataset: 213954\n",
      "Number of non-smokers in the dataset: 602441\n"
     ]
    }
   ],
   "source": [
    "print(f'Number of smokers in the dataset: {len(dataset[dataset[\"SMK_stat_type_cd\"]==1])}')\n",
    "print(f'Number of non-smokers in the dataset: {len(dataset[dataset[\"SMK_stat_type_cd\"]==0])}')"
   ]
  },
  {
   "cell_type": "code",
   "execution_count": 63,
   "metadata": {},
   "outputs": [
    {
     "name": "stdout",
     "output_type": "stream",
     "text": [
      "Number of smokers in the dataset: 213954\n",
      "Number of non-smokers in the dataset: 602441\n"
     ]
    }
   ],
   "source": [
    "print(f'Number of smokers in the dataset: {len(dataset[dataset[\"SMK_stat_type_cd\"]==1])}')\n",
    "print(f'Number of non-smokers in the dataset: {len(dataset[dataset[\"SMK_stat_type_cd\"]==0])}')"
   ]
  },
  {
   "cell_type": "code",
   "execution_count": 64,
   "metadata": {},
   "outputs": [],
   "source": [
    "# Construct pandas dataframes for X and y values\n",
    "df_X = dataset.drop(['SMK_stat_type_cd'], axis=1)\n",
    "df_y = pd.DataFrame(dataset['SMK_stat_type_cd'])"
   ]
  },
  {
   "cell_type": "code",
   "execution_count": 65,
   "metadata": {},
   "outputs": [],
   "source": [
    "# Train Test Split, Set X, y\n",
    "X_train, X_test, y_train, y_test = train_test_split(df_X.to_numpy(), df_y.to_numpy(), test_size=0.2, random_state=1)\n",
    "\n",
    "# Convert X features to float tensors\n",
    "X_train = torch.FloatTensor(X_train)\n",
    "X_test = torch.FloatTensor(X_test)\n",
    "\n",
    "# Conver y labels to float tensors\n",
    "y_train = torch.FloatTensor(y_train)\n",
    "y_test = torch.FloatTensor(y_test)"
   ]
  },
  {
   "cell_type": "markdown",
   "metadata": {},
   "source": [
    "## Training"
   ]
  },
  {
   "cell_type": "code",
   "execution_count": 66,
   "metadata": {},
   "outputs": [],
   "source": [
    "model = SmokersBinaryClassification(input_features=16).to(device)"
   ]
  },
  {
   "cell_type": "code",
   "execution_count": 67,
   "metadata": {},
   "outputs": [],
   "source": [
    "original_params = save_parameters(model)"
   ]
  },
  {
   "cell_type": "code",
   "execution_count": 68,
   "metadata": {},
   "outputs": [],
   "source": [
    "# loss_fn = torch.nn.BCELoss().to(device)\n",
    "loss_fn = torch.nn.BCEWithLogitsLoss().to(device)\n",
    "# optimizer = torch.optim.SGD(model.parameters(), lr=0.01)\n",
    "optimizer= torch.optim.Adam(model.parameters(), lr=0.01)"
   ]
  },
  {
   "cell_type": "code",
   "execution_count": 69,
   "metadata": {},
   "outputs": [
    {
     "name": "stdout",
     "output_type": "stream",
     "text": [
      "=================================================================\n",
      "Layer (type:depth-idx)                   Param #\n",
      "=================================================================\n",
      "SmokersBinaryClassification              --\n",
      "├─Sequential: 1-1                        --\n",
      "│    └─Linear: 2-1                       1,088\n",
      "│    └─ReLU: 2-2                         --\n",
      "│    └─Linear: 2-3                       4,160\n",
      "│    └─ReLU: 2-4                         --\n",
      "│    └─Linear: 2-5                       65\n",
      "=================================================================\n",
      "Total params: 5,313\n",
      "Trainable params: 5,313\n",
      "Non-trainable params: 0\n",
      "=================================================================\n"
     ]
    },
    {
     "data": {
      "application/vnd.jupyter.widget-view+json": {
       "model_id": "4c6e1aaf31e2406ba15711652f8ff98d",
       "version_major": 2,
       "version_minor": 0
      },
      "text/plain": [
       "Training...:   0%|          | 0/400 [00:00<?, ?it/s]"
      ]
     },
     "metadata": {},
     "output_type": "display_data"
    },
    {
     "name": "stdout",
     "output_type": "stream",
     "text": [
      "Epoch: 0050 | Loss: 0.5003, Acc: 76.42% | Test Loss: 0.4920, Test Acc: 76.87%\n",
      "Epoch: 0100 | Loss: 0.4415, Acc: 78.36% | Test Loss: 0.4381, Test Acc: 78.55%\n",
      "Epoch: 0150 | Loss: 0.4214, Acc: 79.45% | Test Loss: 0.4192, Test Acc: 79.51%\n",
      "Epoch: 0200 | Loss: 0.4929, Acc: 74.80% | Test Loss: 0.3985, Test Acc: 80.42%\n",
      "Epoch: 0250 | Loss: 0.3916, Acc: 80.56% | Test Loss: 0.4061, Test Acc: 79.93%\n",
      "Epoch: 0300 | Loss: 0.3680, Acc: 81.70% | Test Loss: 0.3666, Test Acc: 81.75%\n",
      "Epoch: 0350 | Loss: 0.3666, Acc: 81.76% | Test Loss: 0.3626, Test Acc: 81.96%\n",
      "Iteration 0 training accuracy: 81.65578549599152 | testing accuracy: 81.53712357376025\n",
      "=================================================================\n",
      "Layer (type:depth-idx)                   Param #\n",
      "=================================================================\n",
      "SmokersBinaryClassification              --\n",
      "├─Sequential: 1-1                        --\n",
      "│    └─Linear: 2-1                       781\n",
      "│    └─ReLU: 2-2                         --\n",
      "│    └─Linear: 2-3                       2,931\n",
      "│    └─ReLU: 2-4                         --\n",
      "│    └─Linear: 2-5                       65\n",
      "=================================================================\n",
      "Total params: 3,777\n",
      "Trainable params: 3,777\n",
      "Non-trainable params: 0\n",
      "=================================================================\n"
     ]
    },
    {
     "data": {
      "application/vnd.jupyter.widget-view+json": {
       "model_id": "05190d6739bb4fbd8fa6ef258c635402",
       "version_major": 2,
       "version_minor": 0
      },
      "text/plain": [
       "Training...:   0%|          | 0/400 [00:00<?, ?it/s]"
      ]
     },
     "metadata": {},
     "output_type": "display_data"
    },
    {
     "name": "stdout",
     "output_type": "stream",
     "text": [
      "Epoch: 0050 | Loss: 0.3774, Acc: 80.44% | Test Loss: 0.3741, Test Acc: 80.59%\n",
      "Epoch: 0100 | Loss: 0.3680, Acc: 81.18% | Test Loss: 0.3661, Test Acc: 81.22%\n",
      "Epoch: 0150 | Loss: 0.3657, Acc: 81.45% | Test Loss: 0.3638, Test Acc: 81.48%\n",
      "Epoch: 0200 | Loss: 0.3638, Acc: 81.65% | Test Loss: 0.3619, Test Acc: 81.67%\n",
      "Epoch: 0250 | Loss: 0.3623, Acc: 81.82% | Test Loss: 0.3604, Test Acc: 81.94%\n",
      "Epoch: 0300 | Loss: 0.3612, Acc: 81.93% | Test Loss: 0.3593, Test Acc: 82.03%\n",
      "Epoch: 0350 | Loss: 0.3604, Acc: 82.02% | Test Loss: 0.3586, Test Acc: 82.13%\n",
      "Iteration 1 training accuracy: 82.08572443486302 | testing accuracy: 82.21387931087281\n",
      "=================================================================\n",
      "Layer (type:depth-idx)                   Param #\n",
      "=================================================================\n",
      "SmokersBinaryClassification              --\n",
      "├─Sequential: 1-1                        --\n",
      "│    └─Linear: 2-1                       566\n",
      "│    └─ReLU: 2-2                         --\n",
      "│    └─Linear: 2-3                       2,071\n",
      "│    └─ReLU: 2-4                         --\n",
      "│    └─Linear: 2-5                       65\n",
      "=================================================================\n",
      "Total params: 2,702\n",
      "Trainable params: 2,702\n",
      "Non-trainable params: 0\n",
      "=================================================================\n"
     ]
    },
    {
     "data": {
      "application/vnd.jupyter.widget-view+json": {
       "model_id": "422c6c6cc41340df8b7bee2cbb1c13fa",
       "version_major": 2,
       "version_minor": 0
      },
      "text/plain": [
       "Training...:   0%|          | 0/400 [00:00<?, ?it/s]"
      ]
     },
     "metadata": {},
     "output_type": "display_data"
    },
    {
     "name": "stdout",
     "output_type": "stream",
     "text": [
      "Epoch: 0050 | Loss: 0.3697, Acc: 81.23% | Test Loss: 0.3673, Test Acc: 81.34%\n",
      "Epoch: 0100 | Loss: 0.3643, Acc: 81.73% | Test Loss: 0.3626, Test Acc: 81.69%\n",
      "Epoch: 0150 | Loss: 0.3627, Acc: 81.83% | Test Loss: 0.3611, Test Acc: 81.82%\n",
      "Epoch: 0200 | Loss: 0.3616, Acc: 81.90% | Test Loss: 0.3600, Test Acc: 81.93%\n",
      "Epoch: 0250 | Loss: 0.3606, Acc: 81.96% | Test Loss: 0.3590, Test Acc: 82.01%\n",
      "Epoch: 0300 | Loss: 0.3596, Acc: 82.05% | Test Loss: 0.3581, Test Acc: 82.06%\n",
      "Epoch: 0350 | Loss: 0.3585, Acc: 82.18% | Test Loss: 0.3573, Test Acc: 82.21%\n",
      "Iteration 2 training accuracy: 82.24710464909755 | testing accuracy: 82.30329681097997\n",
      "=================================================================\n",
      "Layer (type:depth-idx)                   Param #\n",
      "=================================================================\n",
      "SmokersBinaryClassification              --\n",
      "├─Sequential: 1-1                        --\n",
      "│    └─Linear: 2-1                       415\n",
      "│    └─ReLU: 2-2                         --\n",
      "│    └─Linear: 2-3                       1,469\n",
      "│    └─ReLU: 2-4                         --\n",
      "│    └─Linear: 2-5                       65\n",
      "=================================================================\n",
      "Total params: 1,949\n",
      "Trainable params: 1,949\n",
      "Non-trainable params: 0\n",
      "=================================================================\n"
     ]
    },
    {
     "data": {
      "application/vnd.jupyter.widget-view+json": {
       "model_id": "9d4a190f2e9a40aaa00a42f0a9172374",
       "version_major": 2,
       "version_minor": 0
      },
      "text/plain": [
       "Training...:   0%|          | 0/400 [00:00<?, ?it/s]"
      ]
     },
     "metadata": {},
     "output_type": "display_data"
    },
    {
     "name": "stdout",
     "output_type": "stream",
     "text": [
      "Epoch: 0050 | Loss: 0.3643, Acc: 81.55% | Test Loss: 0.3617, Test Acc: 81.69%\n",
      "Epoch: 0100 | Loss: 0.3623, Acc: 81.73% | Test Loss: 0.3595, Test Acc: 81.89%\n",
      "Epoch: 0150 | Loss: 0.3606, Acc: 81.93% | Test Loss: 0.3579, Test Acc: 82.09%\n",
      "Epoch: 0200 | Loss: 0.3597, Acc: 82.02% | Test Loss: 0.3572, Test Acc: 82.21%\n",
      "Epoch: 0250 | Loss: 0.3591, Acc: 82.08% | Test Loss: 0.3567, Test Acc: 82.25%\n",
      "Epoch: 0300 | Loss: 0.3587, Acc: 82.12% | Test Loss: 0.3563, Test Acc: 82.30%\n",
      "Epoch: 0350 | Loss: 0.3583, Acc: 82.17% | Test Loss: 0.3559, Test Acc: 82.31%\n",
      "Iteration 3 training accuracy: 82.20392702062115 | testing accuracy: 82.35229270144967\n",
      "=================================================================\n",
      "Layer (type:depth-idx)                   Param #\n",
      "=================================================================\n",
      "SmokersBinaryClassification              --\n",
      "├─Sequential: 1-1                        --\n",
      "│    └─Linear: 2-1                       310\n",
      "│    └─ReLU: 2-2                         --\n",
      "│    └─Linear: 2-3                       1,047\n",
      "│    └─ReLU: 2-4                         --\n",
      "│    └─Linear: 2-5                       65\n",
      "=================================================================\n",
      "Total params: 1,422\n",
      "Trainable params: 1,422\n",
      "Non-trainable params: 0\n",
      "=================================================================\n"
     ]
    },
    {
     "data": {
      "application/vnd.jupyter.widget-view+json": {
       "model_id": "d504021433c343dea3106c74c3dab945",
       "version_major": 2,
       "version_minor": 0
      },
      "text/plain": [
       "Training...:   0%|          | 0/400 [00:00<?, ?it/s]"
      ]
     },
     "metadata": {},
     "output_type": "display_data"
    },
    {
     "name": "stdout",
     "output_type": "stream",
     "text": [
      "Epoch: 0050 | Loss: 0.3691, Acc: 81.28% | Test Loss: 0.3656, Test Acc: 81.40%\n",
      "Epoch: 0100 | Loss: 0.3649, Acc: 81.57% | Test Loss: 0.3619, Test Acc: 81.74%\n",
      "Epoch: 0150 | Loss: 0.3640, Acc: 81.64% | Test Loss: 0.3611, Test Acc: 81.76%\n",
      "Epoch: 0200 | Loss: 0.3635, Acc: 81.69% | Test Loss: 0.3605, Test Acc: 81.81%\n",
      "Epoch: 0250 | Loss: 0.3631, Acc: 81.71% | Test Loss: 0.3603, Test Acc: 81.83%\n",
      "Epoch: 0300 | Loss: 0.3627, Acc: 81.72% | Test Loss: 0.3600, Test Acc: 81.80%\n",
      "Epoch: 0350 | Loss: 0.3610, Acc: 81.91% | Test Loss: 0.3581, Test Acc: 82.07%\n",
      "Iteration 4 training accuracy: 81.95083262391367 | testing accuracy: 82.1311987457052\n",
      "=================================================================\n",
      "Layer (type:depth-idx)                   Param #\n",
      "=================================================================\n",
      "SmokersBinaryClassification              --\n",
      "├─Sequential: 1-1                        --\n",
      "│    └─Linear: 2-1                       236\n",
      "│    └─ReLU: 2-2                         --\n",
      "│    └─Linear: 2-3                       752\n",
      "│    └─ReLU: 2-4                         --\n",
      "│    └─Linear: 2-5                       65\n",
      "=================================================================\n",
      "Total params: 1,053\n",
      "Trainable params: 1,053\n",
      "Non-trainable params: 0\n",
      "=================================================================\n"
     ]
    },
    {
     "data": {
      "application/vnd.jupyter.widget-view+json": {
       "model_id": "06e091ddc06d46209cc32c031daaac81",
       "version_major": 2,
       "version_minor": 0
      },
      "text/plain": [
       "Training...:   0%|          | 0/400 [00:00<?, ?it/s]"
      ]
     },
     "metadata": {},
     "output_type": "display_data"
    },
    {
     "name": "stdout",
     "output_type": "stream",
     "text": [
      "Epoch: 0050 | Loss: 0.3669, Acc: 81.56% | Test Loss: 0.3637, Test Acc: 81.76%\n",
      "Epoch: 0100 | Loss: 0.3643, Acc: 81.89% | Test Loss: 0.3613, Test Acc: 82.02%\n",
      "Epoch: 0150 | Loss: 0.3636, Acc: 81.90% | Test Loss: 0.3607, Test Acc: 82.04%\n",
      "Epoch: 0200 | Loss: 0.3632, Acc: 81.95% | Test Loss: 0.3602, Test Acc: 82.08%\n",
      "Epoch: 0250 | Loss: 0.3627, Acc: 81.97% | Test Loss: 0.3598, Test Acc: 82.10%\n",
      "Epoch: 0300 | Loss: 0.3621, Acc: 82.00% | Test Loss: 0.3592, Test Acc: 82.11%\n",
      "Epoch: 0350 | Loss: 0.3614, Acc: 82.04% | Test Loss: 0.3585, Test Acc: 82.14%\n",
      "Iteration 5 training accuracy: 82.00932146816186 | testing accuracy: 82.21265441361106\n",
      "=================================================================\n",
      "Layer (type:depth-idx)                   Param #\n",
      "=================================================================\n",
      "SmokersBinaryClassification              --\n",
      "├─Sequential: 1-1                        --\n",
      "│    └─Linear: 2-1                       184\n",
      "│    └─ReLU: 2-2                         --\n",
      "│    └─Linear: 2-3                       546\n",
      "│    └─ReLU: 2-4                         --\n",
      "│    └─Linear: 2-5                       65\n",
      "=================================================================\n",
      "Total params: 795\n",
      "Trainable params: 795\n",
      "Non-trainable params: 0\n",
      "=================================================================\n"
     ]
    },
    {
     "data": {
      "application/vnd.jupyter.widget-view+json": {
       "model_id": "66203e65814248a0b5b08bfbbf868938",
       "version_major": 2,
       "version_minor": 0
      },
      "text/plain": [
       "Training...:   0%|          | 0/400 [00:00<?, ?it/s]"
      ]
     },
     "metadata": {},
     "output_type": "display_data"
    },
    {
     "name": "stdout",
     "output_type": "stream",
     "text": [
      "Epoch: 0050 | Loss: 0.3777, Acc: 80.45% | Test Loss: 0.3745, Test Acc: 80.61%\n",
      "Epoch: 0100 | Loss: 0.3770, Acc: 80.52% | Test Loss: 0.3739, Test Acc: 80.67%\n",
      "Epoch: 0150 | Loss: 0.3767, Acc: 80.55% | Test Loss: 0.3736, Test Acc: 80.70%\n",
      "Epoch: 0200 | Loss: 0.3765, Acc: 80.58% | Test Loss: 0.3734, Test Acc: 80.71%\n",
      "Epoch: 0250 | Loss: 0.3763, Acc: 80.62% | Test Loss: 0.3732, Test Acc: 80.73%\n",
      "Epoch: 0300 | Loss: 0.3761, Acc: 80.65% | Test Loss: 0.3729, Test Acc: 80.74%\n",
      "Epoch: 0350 | Loss: 0.3757, Acc: 80.68% | Test Loss: 0.3726, Test Acc: 80.79%\n",
      "Iteration 6 training accuracy: 80.70572455735275 | testing accuracy: 80.79544828177536\n",
      "=================================================================\n",
      "Layer (type:depth-idx)                   Param #\n",
      "=================================================================\n",
      "SmokersBinaryClassification              --\n",
      "├─Sequential: 1-1                        --\n",
      "│    └─Linear: 2-1                       148\n",
      "│    └─ReLU: 2-2                         --\n",
      "│    └─Linear: 2-3                       401\n",
      "│    └─ReLU: 2-4                         --\n",
      "│    └─Linear: 2-5                       65\n",
      "=================================================================\n",
      "Total params: 614\n",
      "Trainable params: 614\n",
      "Non-trainable params: 0\n",
      "=================================================================\n"
     ]
    },
    {
     "data": {
      "application/vnd.jupyter.widget-view+json": {
       "model_id": "a74a5f15a5e44d7e83e49a59eeb66232",
       "version_major": 2,
       "version_minor": 0
      },
      "text/plain": [
       "Training...:   0%|          | 0/400 [00:00<?, ?it/s]"
      ]
     },
     "metadata": {},
     "output_type": "display_data"
    },
    {
     "name": "stdout",
     "output_type": "stream",
     "text": [
      "Epoch: 0050 | Loss: 0.3755, Acc: 80.70% | Test Loss: 0.3724, Test Acc: 80.83%\n",
      "Epoch: 0100 | Loss: 0.3753, Acc: 80.72% | Test Loss: 0.3722, Test Acc: 80.80%\n",
      "Epoch: 0150 | Loss: 0.3753, Acc: 80.73% | Test Loss: 0.3722, Test Acc: 80.81%\n",
      "Epoch: 0200 | Loss: 0.3752, Acc: 80.72% | Test Loss: 0.3721, Test Acc: 80.81%\n",
      "Epoch: 0250 | Loss: 0.3752, Acc: 80.72% | Test Loss: 0.3721, Test Acc: 80.82%\n",
      "Epoch: 0300 | Loss: 0.3751, Acc: 80.72% | Test Loss: 0.3720, Test Acc: 80.83%\n",
      "Epoch: 0350 | Loss: 0.3751, Acc: 80.73% | Test Loss: 0.3720, Test Acc: 80.83%\n",
      "Iteration 7 training accuracy: 80.72409801627889 | testing accuracy: 80.83097030236588\n",
      "=================================================================\n",
      "Layer (type:depth-idx)                   Param #\n",
      "=================================================================\n",
      "SmokersBinaryClassification              --\n",
      "├─Sequential: 1-1                        --\n",
      "│    └─Linear: 2-1                       123\n",
      "│    └─ReLU: 2-2                         --\n",
      "│    └─Linear: 2-3                       300\n",
      "│    └─ReLU: 2-4                         --\n",
      "│    └─Linear: 2-5                       65\n",
      "=================================================================\n",
      "Total params: 488\n",
      "Trainable params: 488\n",
      "Non-trainable params: 0\n",
      "=================================================================\n"
     ]
    },
    {
     "data": {
      "application/vnd.jupyter.widget-view+json": {
       "model_id": "fc4d59b94e104e48949ad91d79a030f6",
       "version_major": 2,
       "version_minor": 0
      },
      "text/plain": [
       "Training...:   0%|          | 0/400 [00:00<?, ?it/s]"
      ]
     },
     "metadata": {},
     "output_type": "display_data"
    },
    {
     "name": "stdout",
     "output_type": "stream",
     "text": [
      "Epoch: 0050 | Loss: 0.3750, Acc: 80.73% | Test Loss: 0.3719, Test Acc: 80.84%\n",
      "Epoch: 0100 | Loss: 0.3750, Acc: 80.73% | Test Loss: 0.3719, Test Acc: 80.85%\n",
      "Epoch: 0150 | Loss: 0.3749, Acc: 80.74% | Test Loss: 0.3719, Test Acc: 80.85%\n",
      "Epoch: 0200 | Loss: 0.3749, Acc: 80.73% | Test Loss: 0.3719, Test Acc: 80.86%\n",
      "Epoch: 0250 | Loss: 0.3749, Acc: 80.73% | Test Loss: 0.3718, Test Acc: 80.87%\n",
      "Epoch: 0300 | Loss: 0.3749, Acc: 80.73% | Test Loss: 0.3718, Test Acc: 80.88%\n",
      "Epoch: 0350 | Loss: 0.3748, Acc: 80.74% | Test Loss: 0.3718, Test Acc: 80.86%\n",
      "Iteration 8 training accuracy: 80.73175362416477 | testing accuracy: 80.86220518254031\n",
      "=================================================================\n",
      "Layer (type:depth-idx)                   Param #\n",
      "=================================================================\n",
      "SmokersBinaryClassification              --\n",
      "├─Sequential: 1-1                        --\n",
      "│    └─Linear: 2-1                       105\n",
      "│    └─ReLU: 2-2                         --\n",
      "│    └─Linear: 2-3                       229\n",
      "│    └─ReLU: 2-4                         --\n",
      "│    └─Linear: 2-5                       65\n",
      "=================================================================\n",
      "Total params: 399\n",
      "Trainable params: 399\n",
      "Non-trainable params: 0\n",
      "=================================================================\n"
     ]
    },
    {
     "data": {
      "application/vnd.jupyter.widget-view+json": {
       "model_id": "5ec321d4addd4498add863b5780e08a0",
       "version_major": 2,
       "version_minor": 0
      },
      "text/plain": [
       "Training...:   0%|          | 0/400 [00:00<?, ?it/s]"
      ]
     },
     "metadata": {},
     "output_type": "display_data"
    },
    {
     "name": "stdout",
     "output_type": "stream",
     "text": [
      "Epoch: 0050 | Loss: 0.3748, Acc: 80.73% | Test Loss: 0.3717, Test Acc: 80.88%\n",
      "Epoch: 0100 | Loss: 0.3748, Acc: 80.73% | Test Loss: 0.3718, Test Acc: 80.86%\n",
      "Epoch: 0150 | Loss: 0.3748, Acc: 80.73% | Test Loss: 0.3717, Test Acc: 80.87%\n",
      "Epoch: 0200 | Loss: 0.3748, Acc: 80.73% | Test Loss: 0.3717, Test Acc: 80.86%\n",
      "Epoch: 0250 | Loss: 0.3748, Acc: 80.73% | Test Loss: 0.3717, Test Acc: 80.86%\n",
      "Epoch: 0300 | Loss: 0.3747, Acc: 80.74% | Test Loss: 0.3717, Test Acc: 80.86%\n",
      "Epoch: 0350 | Loss: 0.3747, Acc: 80.74% | Test Loss: 0.3717, Test Acc: 80.86%\n",
      "Iteration 9 training accuracy: 80.74094035362785 | testing accuracy: 80.86710477158728\n"
     ]
    }
   ],
   "source": [
    "for i in range(10):\n",
    "    print(summary(model))\n",
    "    time, train_acc, test_acc = training_loop(model, X_train, y_train, X_test, y_test, 400, loss_fn, optimizer)\n",
    "    print(f'Iteration {i} training accuracy: {train_acc} | testing accuracy: {test_acc}')\n",
    "    prune.l1_unstructured(model.stack[0], name='weight', amount=0.3)\n",
    "    prune.l1_unstructured(model.stack[2], name='weight', amount=0.3)   \n",
    "    restore_original_parameters(original_params, model.state_dict())"
   ]
  }
 ],
 "metadata": {
  "kernelspec": {
   "display_name": "Python 3",
   "language": "python",
   "name": "python3"
  },
  "language_info": {
   "codemirror_mode": {
    "name": "ipython",
    "version": 3
   },
   "file_extension": ".py",
   "mimetype": "text/x-python",
   "name": "python",
   "nbconvert_exporter": "python",
   "pygments_lexer": "ipython3",
   "version": "3.10.12"
  }
 },
 "nbformat": 4,
 "nbformat_minor": 2
}
