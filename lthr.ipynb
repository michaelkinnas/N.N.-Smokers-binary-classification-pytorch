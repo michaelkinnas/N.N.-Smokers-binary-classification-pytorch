{
 "cells": [
  {
   "cell_type": "markdown",
   "metadata": {},
   "source": [
    "## Imports & helper functions"
   ]
  },
  {
   "cell_type": "code",
   "execution_count": 36,
   "metadata": {},
   "outputs": [
    {
     "data": {
      "text/plain": [
       "'cuda'"
      ]
     },
     "execution_count": 36,
     "metadata": {},
     "output_type": "execute_result"
    }
   ],
   "source": [
    "import torch\n",
    "from torch import nn\n",
    "from torch.utils.data import DataLoader\n",
    "import matplotlib.pyplot as plt\n",
    "import pandas as pd\n",
    "import seaborn as sns\n",
    "from sklearn.model_selection import train_test_split\n",
    "from timeit import default_timer as timer\n",
    "from tqdm.notebook import tqdm\n",
    "from torchinfo import summary\n",
    "from pathlib import Path\n",
    "import torch.nn.utils.prune as prune\n",
    "import torch.nn.functional as F\n",
    "from ptflops import get_model_complexity_info\n",
    "import psutil\n",
    "from model import SmokersBinaryClassification\n",
    "from utils import *\n",
    "\n",
    "device = 'cuda' if torch.cuda.is_available() else 'cpu'\n",
    "device"
   ]
  },
  {
   "cell_type": "code",
   "execution_count": 37,
   "metadata": {},
   "outputs": [],
   "source": [
    "# Calculate accuracy\n",
    "def accuracy_fn(y_pred, y_true):\n",
    "    # print(f'prediction {y_pred} true: {y_true} ')\n",
    "    correct = torch.eq(y_true, y_pred).sum().item()\n",
    "    return (correct / len(y_pred)) * 100"
   ]
  },
  {
   "cell_type": "code",
   "execution_count": 38,
   "metadata": {},
   "outputs": [],
   "source": [
    "def print_train_time(start: float, end: float, device: torch.device = None):\n",
    "    \"\"\"Prints difference between start and end time.\n",
    "    \"\"\"\n",
    "    total_time = end - start\n",
    "    print(f'Train time on {device}: {total_time:.3f} seconds')\n",
    "    # return total_time"
   ]
  },
  {
   "cell_type": "code",
   "execution_count": 39,
   "metadata": {},
   "outputs": [],
   "source": [
    "def training_loop(model, X_train, y_train, X_test, y_test, epochs, loss_fn, optimizer):\n",
    "    X_train, y_train, X_test, y_test = X_train.to(device), y_train.to(device), X_test.to(device), y_test.to(device)\n",
    "\n",
    "    start_time = timer()\n",
    "\n",
    "    for epoch in tqdm(range(epochs), desc='Training...'):\n",
    "        model.train()\n",
    "\n",
    "        # 1. Forward passs\n",
    "        y_hat = model(X_train)\n",
    "        loss = loss_fn(y_hat, y_train)    \n",
    "\n",
    "        optimizer.zero_grad()\n",
    "        loss.backward()\n",
    "        optimizer.step()\n",
    "\n",
    "        # Calculate prediction accuracy\n",
    "        y_train_pred = torch.round(torch.sigmoid(y_hat))        #if not using sigmoid on model output\n",
    "        # y_train_pred = torch.round(y_hat)                     #prediction probabilities -> prediction labels\n",
    "        acc = accuracy_fn(y_pred=y_train_pred, y_true=y_train)\n",
    "\n",
    "        ### Testing\n",
    "        model.eval()\n",
    "        with torch.inference_mode():\n",
    "            y_hat = model(X_test)\n",
    "            test_loss = loss_fn(y_hat, y_test)\n",
    "\n",
    "            y_test_pred = torch.round(torch.sigmoid(y_hat))\n",
    "            # y_test_pred = torch.round(y_hat)\n",
    "            test_acc = accuracy_fn(y_pred=y_test_pred, y_true=y_test)\n",
    "\n",
    "        if epoch % 50 == 0 and epoch != 0             :\n",
    "            print(f'Epoch: {epoch:04d} | Loss: {loss:.4f}, Acc: {acc:.2f}% | Test Loss: {test_loss:.4f}, Test Acc: {test_acc:.2f}%')\n",
    "\n",
    "    end_time = timer()\n",
    "    return end_time - start_time, acc, test_acc\n",
    "  "
   ]
  },
  {
   "cell_type": "markdown",
   "metadata": {},
   "source": [
    "1. Initialize model\n",
    "2. Save parameter values\n",
    "3. Train network\n",
    "4. Prune\n",
    "5. Restore values from step 2 to pruned network\n",
    "6. Repeat steps 3 - 5"
   ]
  },
  {
   "cell_type": "markdown",
   "metadata": {},
   "source": [
    "## Data load and prep"
   ]
  },
  {
   "cell_type": "code",
   "execution_count": 40,
   "metadata": {},
   "outputs": [],
   "source": [
    "dataset = pd.read_csv('dataset/smoking_driking_dataset_Ver01.csv')"
   ]
  },
  {
   "cell_type": "code",
   "execution_count": 41,
   "metadata": {},
   "outputs": [],
   "source": [
    "dataset = dataset[dataset['SMK_stat_type_cd'] != 2]"
   ]
  },
  {
   "cell_type": "code",
   "execution_count": 42,
   "metadata": {},
   "outputs": [],
   "source": [
    "dataset['sex'] = dataset['sex'].replace('Male', 0.0)\n",
    "dataset['sex'] = dataset['sex'].replace('Female', 1.0)"
   ]
  },
  {
   "cell_type": "code",
   "execution_count": 43,
   "metadata": {},
   "outputs": [],
   "source": [
    "dataset['SMK_stat_type_cd'] = dataset['SMK_stat_type_cd'].apply(lambda x: 1.0 if x == 3.0 else 0.0) # Smokers: 1 non smokers: 0"
   ]
  },
  {
   "cell_type": "code",
   "execution_count": 44,
   "metadata": {},
   "outputs": [],
   "source": [
    "# Remove some input features from dataset\n",
    "dataset = dataset.drop(['waistline','sight_left','sight_right','hear_left','hear_right','urine_protein','DRK_YN'], axis=1)"
   ]
  },
  {
   "cell_type": "code",
   "execution_count": 45,
   "metadata": {},
   "outputs": [
    {
     "name": "stdout",
     "output_type": "stream",
     "text": [
      "Number of smokers in the dataset: 213954\n",
      "Number of non-smokers in the dataset: 602441\n"
     ]
    }
   ],
   "source": [
    "print(f'Number of smokers in the dataset: {len(dataset[dataset[\"SMK_stat_type_cd\"]==1])}')\n",
    "print(f'Number of non-smokers in the dataset: {len(dataset[dataset[\"SMK_stat_type_cd\"]==0])}')"
   ]
  },
  {
   "cell_type": "code",
   "execution_count": 46,
   "metadata": {},
   "outputs": [
    {
     "name": "stdout",
     "output_type": "stream",
     "text": [
      "Number of smokers in the dataset: 213954\n",
      "Number of non-smokers in the dataset: 602441\n"
     ]
    }
   ],
   "source": [
    "print(f'Number of smokers in the dataset: {len(dataset[dataset[\"SMK_stat_type_cd\"]==1])}')\n",
    "print(f'Number of non-smokers in the dataset: {len(dataset[dataset[\"SMK_stat_type_cd\"]==0])}')"
   ]
  },
  {
   "cell_type": "code",
   "execution_count": 47,
   "metadata": {},
   "outputs": [],
   "source": [
    "# Construct pandas dataframes for X and y values\n",
    "df_X = dataset.drop(['SMK_stat_type_cd'], axis=1)\n",
    "df_y = pd.DataFrame(dataset['SMK_stat_type_cd'])"
   ]
  },
  {
   "cell_type": "code",
   "execution_count": 48,
   "metadata": {},
   "outputs": [],
   "source": [
    "# Train Test Split, Set X, y\n",
    "X_train, X_test, y_train, y_test = train_test_split(df_X.to_numpy(), df_y.to_numpy(), test_size=0.2, random_state=1)\n",
    "\n",
    "# Convert X features to float tensors\n",
    "X_train = torch.FloatTensor(X_train)\n",
    "X_test = torch.FloatTensor(X_test)\n",
    "\n",
    "# Conver y labels to float tensors\n",
    "y_train = torch.FloatTensor(y_train)\n",
    "y_test = torch.FloatTensor(y_test)"
   ]
  },
  {
   "cell_type": "markdown",
   "metadata": {},
   "source": [
    "## Training"
   ]
  },
  {
   "cell_type": "code",
   "execution_count": 49,
   "metadata": {},
   "outputs": [],
   "source": [
    "model = SmokersBinaryClassification(input_features=16).to(device)"
   ]
  },
  {
   "cell_type": "code",
   "execution_count": 50,
   "metadata": {},
   "outputs": [],
   "source": [
    "original_params = save_parameters(model)"
   ]
  },
  {
   "cell_type": "code",
   "execution_count": 51,
   "metadata": {},
   "outputs": [],
   "source": [
    "# loss_fn = torch.nn.BCELoss().to(device)\n",
    "loss_fn = torch.nn.BCEWithLogitsLoss().to(device)\n",
    "# optimizer = torch.optim.SGD(model.parameters(), lr=0.01)\n",
    "optimizer= torch.optim.Adam(model.parameters(), lr=0.01)"
   ]
  },
  {
   "cell_type": "code",
   "execution_count": 52,
   "metadata": {},
   "outputs": [
    {
     "name": "stdout",
     "output_type": "stream",
     "text": [
      "=================================================================\n",
      "Layer (type:depth-idx)                   Param #\n",
      "=================================================================\n",
      "SmokersBinaryClassification              --\n",
      "├─Sequential: 1-1                        --\n",
      "│    └─Linear: 2-1                       1,088\n",
      "│    └─ReLU: 2-2                         --\n",
      "│    └─Linear: 2-3                       4,160\n",
      "│    └─ReLU: 2-4                         --\n",
      "│    └─Linear: 2-5                       65\n",
      "=================================================================\n",
      "Total params: 5,313\n",
      "Trainable params: 5,313\n",
      "Non-trainable params: 0\n",
      "=================================================================\n"
     ]
    },
    {
     "data": {
      "application/vnd.jupyter.widget-view+json": {
       "model_id": "48cbce24b01c42fb94231b95caa946dd",
       "version_major": 2,
       "version_minor": 0
      },
      "text/plain": [
       "Training...:   0%|          | 0/400 [00:00<?, ?it/s]"
      ]
     },
     "metadata": {},
     "output_type": "display_data"
    },
    {
     "name": "stdout",
     "output_type": "stream",
     "text": [
      "Epoch: 0050 | Loss: 0.4876, Acc: 76.40% | Test Loss: 0.4786, Test Acc: 77.08%\n",
      "Epoch: 0100 | Loss: 0.4375, Acc: 78.67% | Test Loss: 0.4336, Test Acc: 78.85%\n",
      "Epoch: 0150 | Loss: 0.4228, Acc: 79.26% | Test Loss: 0.4181, Test Acc: 79.58%\n",
      "Epoch: 0200 | Loss: 0.3959, Acc: 80.83% | Test Loss: 0.3905, Test Acc: 80.95%\n",
      "Epoch: 0250 | Loss: 0.3732, Acc: 81.64% | Test Loss: 0.3761, Test Acc: 81.52%\n",
      "Epoch: 0300 | Loss: 0.3673, Acc: 81.92% | Test Loss: 0.3638, Test Acc: 81.98%\n",
      "Epoch: 0350 | Loss: 0.3659, Acc: 81.76% | Test Loss: 0.3735, Test Acc: 81.28%\n",
      "Iteration 0 training accuracy: 82.2863013614733 | testing accuracy: 82.3663790199597\n",
      "=================================================================\n",
      "Layer (type:depth-idx)                   Param #\n",
      "=================================================================\n",
      "SmokersBinaryClassification              --\n",
      "├─Sequential: 1-1                        --\n",
      "│    └─Linear: 2-1                       883\n",
      "│    └─ReLU: 2-2                         --\n",
      "│    └─Linear: 2-3                       3,341\n",
      "│    └─ReLU: 2-4                         --\n",
      "│    └─Linear: 2-5                       65\n",
      "=================================================================\n",
      "Total params: 4,289\n",
      "Trainable params: 4,289\n",
      "Non-trainable params: 0\n",
      "=================================================================\n"
     ]
    },
    {
     "data": {
      "application/vnd.jupyter.widget-view+json": {
       "model_id": "336b720c73d0406eb2d06ce2b1a0ea33",
       "version_major": 2,
       "version_minor": 0
      },
      "text/plain": [
       "Training...:   0%|          | 0/400 [00:00<?, ?it/s]"
      ]
     },
     "metadata": {},
     "output_type": "display_data"
    },
    {
     "name": "stdout",
     "output_type": "stream",
     "text": [
      "Epoch: 0050 | Loss: 0.3593, Acc: 82.28% | Test Loss: 0.3573, Test Acc: 82.32%\n",
      "Epoch: 0100 | Loss: 0.3571, Acc: 82.41% | Test Loss: 0.3551, Test Acc: 82.41%\n",
      "Epoch: 0150 | Loss: 0.3562, Acc: 82.48% | Test Loss: 0.3545, Test Acc: 82.46%\n",
      "Epoch: 0200 | Loss: 0.3556, Acc: 82.52% | Test Loss: 0.3541, Test Acc: 82.49%\n",
      "Epoch: 0250 | Loss: 0.3551, Acc: 82.55% | Test Loss: 0.3538, Test Acc: 82.51%\n",
      "Epoch: 0300 | Loss: 0.3555, Acc: 82.50% | Test Loss: 0.3543, Test Acc: 82.52%\n",
      "Epoch: 0350 | Loss: 0.3544, Acc: 82.61% | Test Loss: 0.3533, Test Acc: 82.61%\n",
      "Iteration 1 training accuracy: 82.50494552269429 | testing accuracy: 82.55317585237538\n",
      "=================================================================\n",
      "Layer (type:depth-idx)                   Param #\n",
      "=================================================================\n",
      "SmokersBinaryClassification              --\n",
      "├─Sequential: 1-1                        --\n",
      "│    └─Linear: 2-1                       719\n",
      "│    └─ReLU: 2-2                         --\n",
      "│    └─Linear: 2-3                       2,686\n",
      "│    └─ReLU: 2-4                         --\n",
      "│    └─Linear: 2-5                       65\n",
      "=================================================================\n",
      "Total params: 3,470\n",
      "Trainable params: 3,470\n",
      "Non-trainable params: 0\n",
      "=================================================================\n"
     ]
    },
    {
     "data": {
      "application/vnd.jupyter.widget-view+json": {
       "model_id": "2caf465a6f6040b5b47a4385f2b02b5e",
       "version_major": 2,
       "version_minor": 0
      },
      "text/plain": [
       "Training...:   0%|          | 0/400 [00:00<?, ?it/s]"
      ]
     },
     "metadata": {},
     "output_type": "display_data"
    },
    {
     "name": "stdout",
     "output_type": "stream",
     "text": [
      "Epoch: 0050 | Loss: 0.3604, Acc: 82.20% | Test Loss: 0.3580, Test Acc: 82.25%\n",
      "Epoch: 0100 | Loss: 0.3576, Acc: 82.39% | Test Loss: 0.3556, Test Acc: 82.41%\n",
      "Epoch: 0150 | Loss: 0.3569, Acc: 82.48% | Test Loss: 0.3549, Test Acc: 82.46%\n",
      "Epoch: 0200 | Loss: 0.3556, Acc: 82.54% | Test Loss: 0.3537, Test Acc: 82.55%\n",
      "Epoch: 0250 | Loss: 0.3552, Acc: 82.58% | Test Loss: 0.3537, Test Acc: 82.54%\n",
      "Epoch: 0300 | Loss: 0.3553, Acc: 82.58% | Test Loss: 0.3536, Test Acc: 82.57%\n"
     ]
    },
    {
     "ename": "KeyboardInterrupt",
     "evalue": "",
     "output_type": "error",
     "traceback": [
      "\u001b[0;31m---------------------------------------------------------------------------\u001b[0m",
      "\u001b[0;31mKeyboardInterrupt\u001b[0m                         Traceback (most recent call last)",
      "\u001b[1;32m/home/mike/HUA/Thesis/code/smokers_binary_classification/lthr.ipynb Cell 21\u001b[0m line \u001b[0;36m3\n\u001b[1;32m      <a href='vscode-notebook-cell:/home/mike/HUA/Thesis/code/smokers_binary_classification/lthr.ipynb#X32sZmlsZQ%3D%3D?line=0'>1</a>\u001b[0m \u001b[39mfor\u001b[39;00m i \u001b[39min\u001b[39;00m \u001b[39mrange\u001b[39m(\u001b[39m4\u001b[39m):\n\u001b[1;32m      <a href='vscode-notebook-cell:/home/mike/HUA/Thesis/code/smokers_binary_classification/lthr.ipynb#X32sZmlsZQ%3D%3D?line=1'>2</a>\u001b[0m     \u001b[39mprint\u001b[39m(summary(model))\n\u001b[0;32m----> <a href='vscode-notebook-cell:/home/mike/HUA/Thesis/code/smokers_binary_classification/lthr.ipynb#X32sZmlsZQ%3D%3D?line=2'>3</a>\u001b[0m     time, train_acc, test_acc \u001b[39m=\u001b[39m training_loop(model, X_train, y_train, X_test, y_test, \u001b[39m400\u001b[39;49m, loss_fn, optimizer)\n\u001b[1;32m      <a href='vscode-notebook-cell:/home/mike/HUA/Thesis/code/smokers_binary_classification/lthr.ipynb#X32sZmlsZQ%3D%3D?line=3'>4</a>\u001b[0m     \u001b[39mprint\u001b[39m(\u001b[39mf\u001b[39m\u001b[39m'\u001b[39m\u001b[39mIteration \u001b[39m\u001b[39m{\u001b[39;00mi\u001b[39m}\u001b[39;00m\u001b[39m training accuracy: \u001b[39m\u001b[39m{\u001b[39;00mtrain_acc\u001b[39m}\u001b[39;00m\u001b[39m | testing accuracy: \u001b[39m\u001b[39m{\u001b[39;00mtest_acc\u001b[39m}\u001b[39;00m\u001b[39m'\u001b[39m)\n\u001b[1;32m      <a href='vscode-notebook-cell:/home/mike/HUA/Thesis/code/smokers_binary_classification/lthr.ipynb#X32sZmlsZQ%3D%3D?line=4'>5</a>\u001b[0m     prune\u001b[39m.\u001b[39ml1_unstructured(model\u001b[39m.\u001b[39mstack[\u001b[39m0\u001b[39m], name\u001b[39m=\u001b[39m\u001b[39m'\u001b[39m\u001b[39mweight\u001b[39m\u001b[39m'\u001b[39m, amount\u001b[39m=\u001b[39m\u001b[39m0.2\u001b[39m)\n",
      "\u001b[1;32m/home/mike/HUA/Thesis/code/smokers_binary_classification/lthr.ipynb Cell 21\u001b[0m line \u001b[0;36m2\n\u001b[1;32m     <a href='vscode-notebook-cell:/home/mike/HUA/Thesis/code/smokers_binary_classification/lthr.ipynb#X32sZmlsZQ%3D%3D?line=17'>18</a>\u001b[0m y_train_pred \u001b[39m=\u001b[39m torch\u001b[39m.\u001b[39mround(torch\u001b[39m.\u001b[39msigmoid(y_hat))        \u001b[39m#if not using sigmoid on model output\u001b[39;00m\n\u001b[1;32m     <a href='vscode-notebook-cell:/home/mike/HUA/Thesis/code/smokers_binary_classification/lthr.ipynb#X32sZmlsZQ%3D%3D?line=18'>19</a>\u001b[0m \u001b[39m# y_train_pred = torch.round(y_hat)                     #prediction probabilities -> prediction labels\u001b[39;00m\n\u001b[0;32m---> <a href='vscode-notebook-cell:/home/mike/HUA/Thesis/code/smokers_binary_classification/lthr.ipynb#X32sZmlsZQ%3D%3D?line=19'>20</a>\u001b[0m acc \u001b[39m=\u001b[39m accuracy_fn(y_pred\u001b[39m=\u001b[39;49my_train_pred, y_true\u001b[39m=\u001b[39;49my_train)\n\u001b[1;32m     <a href='vscode-notebook-cell:/home/mike/HUA/Thesis/code/smokers_binary_classification/lthr.ipynb#X32sZmlsZQ%3D%3D?line=21'>22</a>\u001b[0m \u001b[39m### Testing\u001b[39;00m\n\u001b[1;32m     <a href='vscode-notebook-cell:/home/mike/HUA/Thesis/code/smokers_binary_classification/lthr.ipynb#X32sZmlsZQ%3D%3D?line=22'>23</a>\u001b[0m model\u001b[39m.\u001b[39meval()\n",
      "\u001b[1;32m/home/mike/HUA/Thesis/code/smokers_binary_classification/lthr.ipynb Cell 21\u001b[0m line \u001b[0;36m4\n\u001b[1;32m      <a href='vscode-notebook-cell:/home/mike/HUA/Thesis/code/smokers_binary_classification/lthr.ipynb#X32sZmlsZQ%3D%3D?line=1'>2</a>\u001b[0m \u001b[39mdef\u001b[39;00m \u001b[39maccuracy_fn\u001b[39m(y_pred, y_true):\n\u001b[1;32m      <a href='vscode-notebook-cell:/home/mike/HUA/Thesis/code/smokers_binary_classification/lthr.ipynb#X32sZmlsZQ%3D%3D?line=2'>3</a>\u001b[0m     \u001b[39m# print(f'prediction {y_pred} true: {y_true} ')\u001b[39;00m\n\u001b[0;32m----> <a href='vscode-notebook-cell:/home/mike/HUA/Thesis/code/smokers_binary_classification/lthr.ipynb#X32sZmlsZQ%3D%3D?line=3'>4</a>\u001b[0m     correct \u001b[39m=\u001b[39m torch\u001b[39m.\u001b[39;49meq(y_true, y_pred)\u001b[39m.\u001b[39;49msum()\u001b[39m.\u001b[39;49mitem()\n\u001b[1;32m      <a href='vscode-notebook-cell:/home/mike/HUA/Thesis/code/smokers_binary_classification/lthr.ipynb#X32sZmlsZQ%3D%3D?line=4'>5</a>\u001b[0m     \u001b[39mreturn\u001b[39;00m (correct \u001b[39m/\u001b[39m \u001b[39mlen\u001b[39m(y_pred)) \u001b[39m*\u001b[39m \u001b[39m100\u001b[39m\n",
      "\u001b[0;31mKeyboardInterrupt\u001b[0m: "
     ]
    }
   ],
   "source": [
    "for i in range(4):\n",
    "    print(summary(model))\n",
    "    time, train_acc, test_acc = training_loop(model, X_train, y_train, X_test, y_test, 400, loss_fn, optimizer)\n",
    "    print(f'Iteration {i} training accuracy: {train_acc} | testing accuracy: {test_acc}')\n",
    "    prune.l1_unstructured(model.stack[0], name='weight', amount=0.2)\n",
    "    prune.l1_unstructured(model.stack[2], name='weight', amount=0.2)   \n",
    "    restore_original_parameters(original_params, model.state_dict())"
   ]
  },
  {
   "cell_type": "code",
   "execution_count": 18,
   "metadata": {},
   "outputs": [
    {
     "data": {
      "text/plain": [
       "=================================================================\n",
       "Layer (type:depth-idx)                   Param #\n",
       "=================================================================\n",
       "SmokersBinaryClassification              --\n",
       "├─Sequential: 1-1                        --\n",
       "│    └─Linear: 2-1                       483\n",
       "│    └─ReLU: 2-2                         --\n",
       "│    └─Linear: 2-3                       1,742\n",
       "│    └─ReLU: 2-4                         --\n",
       "│    └─Linear: 2-5                       65\n",
       "=================================================================\n",
       "Total params: 2,290\n",
       "Trainable params: 2,290\n",
       "Non-trainable params: 0\n",
       "================================================================="
      ]
     },
     "execution_count": 18,
     "metadata": {},
     "output_type": "execute_result"
    }
   ],
   "source": [
    "summary(model)"
   ]
  }
 ],
 "metadata": {
  "kernelspec": {
   "display_name": "Python 3",
   "language": "python",
   "name": "python3"
  },
  "language_info": {
   "codemirror_mode": {
    "name": "ipython",
    "version": 3
   },
   "file_extension": ".py",
   "mimetype": "text/x-python",
   "name": "python",
   "nbconvert_exporter": "python",
   "pygments_lexer": "ipython3",
   "version": "3.10.12"
  }
 },
 "nbformat": 4,
 "nbformat_minor": 2
}
